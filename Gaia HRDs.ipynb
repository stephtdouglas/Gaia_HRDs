{
 "cells": [
  {
   "cell_type": "markdown",
   "metadata": {},
   "source": [
    "MIT License\n",
    "\n",
    "Copyright (c) 2021 Stephanie T. Douglas\n",
    "\n",
    "Permission is hereby granted, free of charge, to any person obtaining a copy\n",
    "of this software and associated documentation files (the \"Software\"), to deal\n",
    "in the Software without restriction, including without limitation the rights\n",
    "to use, copy, modify, merge, publish, distribute, sublicense, and/or sell\n",
    "copies of the Software, and to permit persons to whom the Software is\n",
    "furnished to do so, subject to the following conditions:\n",
    "\n",
    "The above copyright notice and this permission notice shall be included in all\n",
    "copies or substantial portions of the Software.\n",
    "\n",
    "THE SOFTWARE IS PROVIDED \"AS IS\", WITHOUT WARRANTY OF ANY KIND, EXPRESS OR\n",
    "IMPLIED, INCLUDING BUT NOT LIMITED TO THE WARRANTIES OF MERCHANTABILITY,\n",
    "FITNESS FOR A PARTICULAR PURPOSE AND NONINFRINGEMENT. IN NO EVENT SHALL THE\n",
    "AUTHORS OR COPYRIGHT HOLDERS BE LIABLE FOR ANY CLAIM, DAMAGES OR OTHER\n",
    "LIABILITY, WHETHER IN AN ACTION OF CONTRACT, TORT OR OTHERWISE, ARISING FROM,\n",
    "OUT OF OR IN CONNECTION WITH THE SOFTWARE OR THE USE OR OTHER DEALINGS IN THE\n",
    "SOFTWARE."
   ]
  },
  {
   "cell_type": "markdown",
   "metadata": {},
   "source": [
    "Cluster membership and parameters used in these plots are taken from Gaia Collaboration et al. (2018b), A&A, 616, A10\n",
    "\n",
    "https://www.aanda.org/articles/aa/full_html/2018/08/aa32843-18/aa32843-18.html\n",
    "\n",
    "The original paper is licensed under a CC-BY 4.0 license (https://creativecommons.org/licenses/by/4.0/)\n",
    "\n",
    "-\n",
    "\n",
    "Gaia DR2 data used in the plots are taken from Gaia Collaboration et al. (2018a), A&A, 616, A1\n",
    "\n",
    "https://www.aanda.org/articles/aa/full_html/2018/08/aa33051-18/aa33051-18.html\n",
    "\n",
    "Accessed through CDS https://vizier.u-strasbg.fr/viz-bin/VizieR-3?-source=I/345/gaia2\n",
    "\n",
    "Using the X-match service http://cdsxmatch.u-strasbg.fr/"
   ]
  },
  {
   "cell_type": "code",
   "execution_count": null,
   "metadata": {},
   "outputs": [],
   "source": [
    "%matplotlib inline\n",
    "import matplotlib.pyplot as plt\n",
    "import matplotlib.cm as cm\n",
    "from matplotlib.colors import Normalize,LogNorm\n",
    "import astropy.units as u\n",
    "from astropy.table import Table,join\n",
    "import numpy as np\n",
    "import astropy.io.ascii as at"
   ]
  },
  {
   "cell_type": "markdown",
   "metadata": {},
   "source": [
    "Read in the overall cluster data, and fix one of the cluster names so that it matches properly"
   ]
  },
  {
   "cell_type": "code",
   "execution_count": null,
   "metadata": {},
   "outputs": [],
   "source": [
    "cluster_params = at.read(\"GaiaHRD_tab2.csv\")\n",
    "loc = cluster_params[\"Cluster\"]==\"NGC2451A\"\n",
    "cluster_params[\"Cluster\"][loc] = \"NGC2451\"\n",
    "# cluster_params"
   ]
  },
  {
   "cell_type": "code",
   "execution_count": null,
   "metadata": {},
   "outputs": [],
   "source": [
    "age_norm = Normalize(vmin=min(cluster_params[\"log(age)\"]),vmax=max(cluster_params[\"log(age)\"]))"
   ]
  },
  {
   "cell_type": "markdown",
   "metadata": {},
   "source": [
    "# Test plots, nearby clusters\n",
    "\n",
    "These are nearby clusters where we have to use individual parallaxes for each star"
   ]
  },
  {
   "cell_type": "code",
   "execution_count": null,
   "metadata": {},
   "outputs": [],
   "source": [
    "near_tab = at.read(\"GaiaHRD_tab1a_DR2xmatch.csv\",delimiter=\",\")"
   ]
  },
  {
   "cell_type": "code",
   "execution_count": null,
   "metadata": {},
   "outputs": [],
   "source": [
    "near_clusters = np.unique(near_tab[\"Cluster\"])"
   ]
  },
  {
   "cell_type": "code",
   "execution_count": null,
   "metadata": {
    "scrolled": false
   },
   "outputs": [],
   "source": [
    "for cluster in near_clusters:\n",
    "#     print(cluster)\n",
    "    plt.figure(figsize=(9,4))\n",
    "    loc = near_tab[\"Cluster\"]==cluster\n",
    "    cl_age = cluster_params[\"log(age)\"][cluster_params[\"Cluster\"]==cluster]\n",
    "#     print(cl_age)\n",
    "    cl_color = np.ones_like(near_tab[\"Gmag\"][loc])*cl_age[0]\n",
    "    \n",
    "    # Plot a CMD with apparent magnitude\n",
    "    ax = plt.subplot(121)\n",
    "    ax.scatter(near_tab[\"bp_rp\"][loc],near_tab[\"phot_g_mean_mag\"][loc],marker=\".\",\n",
    "               c=cl_color,norm=age_norm,cmap=\"plasma\")\n",
    "    ax.set_ylim(ax.get_ylim()[::-1])\n",
    "    ax.set_ylabel(\"G\",fontsize=16)\n",
    "    ax.set_xlabel(r\"G$_{BP}$ - G$_{RP}$\",fontsize=16)\n",
    "    ax.tick_params(labelsize=14)\n",
    "\n",
    "    # Plot a CMD with absolute magnitude\n",
    "    ax = plt.subplot(122)\n",
    "    dist = 1000/near_tab[\"plx\"]\n",
    "    dmod = 5*np.log10(dist)-5\n",
    "    ax.scatter(near_tab[\"bp_rp\"][loc],near_tab[\"phot_g_mean_mag\"][loc]-dmod[loc],marker=\".\",\n",
    "               c=cl_color,norm=age_norm,cmap=\"plasma\")\n",
    "    ax.set_ylim(ax.get_ylim()[::-1])\n",
    "    ax.set_ylabel(r\"M$_G$\",fontsize=16)\n",
    "    ax.set_xlabel(r\"G$_{BP}$ - G$_{RP}$\",fontsize=16)\n",
    "    ax.tick_params(labelsize=14)\n",
    "\n",
    "    plt.suptitle(cluster)\n",
    "    plt.subplots_adjust(wspace=0.35,bottom=0.15)\n",
    "    \n",
    "    plt.savefig(f\"figures/gaia_HRD_sidebyside_{cluster}.png\",\n",
    "                dpi=600,facecolor=\"w\")"
   ]
  },
  {
   "cell_type": "markdown",
   "metadata": {},
   "source": [
    "# Test plots, clusters >250 pc away\n",
    "\n",
    "These clusters are sufficiently far away that we can use one distance for the entire cluster"
   ]
  },
  {
   "cell_type": "code",
   "execution_count": null,
   "metadata": {},
   "outputs": [],
   "source": [
    "far_tab = at.read(\"GaiaHRD_tab1b_DR2xmatch.csv\",delimiter=\",\")\n",
    "# near_tab2"
   ]
  },
  {
   "cell_type": "code",
   "execution_count": null,
   "metadata": {},
   "outputs": [],
   "source": [
    "far_clusters = np.unique(far_tab[\"Cluster\"])"
   ]
  },
  {
   "cell_type": "code",
   "execution_count": null,
   "metadata": {
    "scrolled": false
   },
   "outputs": [],
   "source": [
    "fig = plt.figure(figsize=(9,9))\n",
    "ax1 = plt.subplot(211)\n",
    "ax2 = plt.subplot(212)\n",
    "# age_norm = Normalize(vmin=7.75,vmax=10.2)\n",
    "for cluster in far_clusters:\n",
    "#     print(cluster)\n",
    "    loc = far_tab[\"Cluster\"]==cluster\n",
    "    cl_age = cluster_params[\"log(age)\"][cluster_params[\"Cluster\"]==cluster]\n",
    "    if len(cl_age)==0:\n",
    "#         print(\"Not found\")\n",
    "        continue\n",
    "    dmod = cluster_params[\"DM\"][cluster_params[\"Cluster\"]==cluster]\n",
    "#     print(cl_age)\n",
    "    cl_color = np.ones_like(far_tab[\"phot_g_mean_mag\"][loc])*cl_age[0]\n",
    "    \n",
    "    # Plot a CMD with apparent magnitude\n",
    "    sc1 = ax1.scatter(far_tab[\"bp_rp\"][loc],far_tab[\"phot_g_mean_mag\"][loc],marker=\".\",\n",
    "               c=cl_color,norm=age_norm,cmap=\"inferno\",s=9)\n",
    "    ax1.set_ylabel(\"G\",fontsize=16)\n",
    "    ax1.set_xlabel(r\"G$_{BP}$ - G$_{RP}$\",fontsize=16)\n",
    "\n",
    "    # Plot a CMD with absolute magnitude\n",
    "    sc2 = ax2.scatter(far_tab[\"bp_rp\"][loc],far_tab[\"phot_g_mean_mag\"][loc]-dmod,marker=\".\",\n",
    "               c=cl_color,norm=age_norm,cmap=\"inferno\",zorder=cl_age,s=9)\n",
    "    ax2.set_ylabel(r\"M$_G$\",fontsize=16)\n",
    "    ax2.set_xlabel(r\"G$_{BP}$ - G$_{RP}$\",fontsize=16)\n",
    "\n",
    "ax1.set_ylim(20,5)\n",
    "ax2.set_ylim(12,-3)\n",
    "ax1.set_xlim(-0.5,4)\n",
    "ax2.set_xlim(-0.5,4)\n",
    "ax1.tick_params(labelsize=14)\n",
    "ax2.tick_params(labelsize=14)\n",
    "fig.colorbar(sc2, ax=[ax1,ax2], shrink=0.6,label=\"log(age/year)\")"
   ]
  },
  {
   "cell_type": "markdown",
   "metadata": {},
   "source": [
    "# Combine lists and animate the plot\n",
    "\n",
    "The goal here is to create a two-panel plot. The top panel has the CMDs in apparent magnitude, and the bottom panel has the CMDs in absolute magnitude. The clusters are plotted from youngest to oldest, and colored accordingly"
   ]
  },
  {
   "cell_type": "code",
   "execution_count": null,
   "metadata": {},
   "outputs": [],
   "source": [
    "cluster_sort = np.argsort(cluster_params[\"log(age)\"])"
   ]
  },
  {
   "cell_type": "code",
   "execution_count": null,
   "metadata": {},
   "outputs": [],
   "source": [
    "fig = plt.figure(figsize=(9,9))\n",
    "ax1 = plt.subplot(211)\n",
    "ax2 = plt.subplot(212)\n",
    "ax1.set_ylim(21,4)\n",
    "ax2.set_ylim(14,-5)\n",
    "ax1.set_xlim(-0.25,4)\n",
    "ax2.set_xlim(-0.25,4)\n",
    "ax1.tick_params(labelsize=14)\n",
    "ax2.tick_params(labelsize=14)\n",
    "\n",
    "ax1.text(3.95,5,\"Figure: Stephanie T. Douglas\",horizontalalignment=\"right\")\n",
    "ax1.text(3.95,6,\"Data: Gaia Collaboration et al. (2018)\",horizontalalignment=\"right\")\n",
    "\n",
    "for ct,i in enumerate(cluster_sort):\n",
    "    cluster = cluster_params[\"Cluster\"][i]\n",
    "#     print(cluster)\n",
    "    cl_age = cluster_params[\"log(age)\"][i]\n",
    "    dmod = cluster_params[\"DM\"][i]\n",
    "    if dmod<7:\n",
    "        tab = near_tab\n",
    "        loc = near_tab[\"Cluster\"]==cluster\n",
    "        dist = 1000/near_tab[\"plx\"]\n",
    "        dmod = 5*np.log10(dist[loc])-5\n",
    "    else:\n",
    "        tab = far_tab\n",
    "        loc = far_tab[\"Cluster\"]==cluster\n",
    "#     print(cl_age)\n",
    "    cl_color = np.ones_like(tab[\"phot_g_mean_mag\"][loc])*cl_age\n",
    "    \n",
    "    # Plot a CMD with apparent magnitude\n",
    "    sc1 = ax1.scatter(tab[\"bp_rp\"][loc],tab[\"phot_g_mean_mag\"][loc],marker=\".\",\n",
    "               c=cl_color,norm=age_norm,cmap=\"plasma\",s=9)\n",
    "    ax1.set_ylabel(\"G\",fontsize=16)\n",
    "    ax1.set_xlabel(r\"G$_{BP}$ - G$_{RP}$\",fontsize=16)\n",
    "\n",
    "    # Plot a CMD with absolute magnitude\n",
    "    sc2 = ax2.scatter(tab[\"bp_rp\"][loc],tab[\"phot_g_mean_mag\"][loc]-dmod,marker=\".\",\n",
    "               c=cl_color,norm=age_norm,cmap=\"plasma\",zorder=cl_age,s=9)\n",
    "    ax2.set_ylabel(r\"M$_G$\",fontsize=16)\n",
    "    ax2.set_xlabel(r\"G$_{BP}$ - G$_{RP}$\",fontsize=16)\n",
    "    \n",
    "    if ct==0:\n",
    "        fig.colorbar(sc2, ax=[ax1,ax2], shrink=0.6,label=\"log(age,yr)\")\n",
    "    \n",
    "    plt.savefig(\"figures/gaia_HRD_clusters{0:0>3}.png\".format(ct+1),\n",
    "                bbox_inches=\"tight\",dpi=600,facecolor=\"w\")"
   ]
  },
  {
   "cell_type": "markdown",
   "metadata": {},
   "source": [
    "Now just plot the absolute magnitude CMDs, still stacked in age order"
   ]
  },
  {
   "cell_type": "code",
   "execution_count": null,
   "metadata": {},
   "outputs": [],
   "source": [
    "fig = plt.figure(figsize=(9,6))\n",
    "ax2 = plt.subplot(111)\n",
    "ax2.set_ylim(14,-5)\n",
    "ax2.set_xlim(-0.25,4)\n",
    "ax2.tick_params(labelsize=14)\n",
    "ax2.set_ylabel(r\"M$_G$\",fontsize=16)\n",
    "ax2.set_xlabel(r\"G$_{BP}$ - G$_{RP}$\",fontsize=16)\n",
    "\n",
    "ax2.text(3.95,-4,\"Figure: Stephanie T. Douglas\",horizontalalignment=\"right\")\n",
    "ax2.text(3.95,-3,\"Data: Gaia Collaboration et al. (2018)\",horizontalalignment=\"right\")\n",
    "\n",
    "for ct,i in enumerate(cluster_sort):\n",
    "\n",
    "    cluster = cluster_params[\"Cluster\"][i]\n",
    "    print(cluster,ct)\n",
    "    cl_age = cluster_params[\"log(age)\"][i]\n",
    "    dmod = cluster_params[\"DM\"][i]\n",
    "    if dmod<7:\n",
    "        tab = near_tab\n",
    "        loc = near_tab[\"Cluster\"]==cluster\n",
    "        dist = 1000/near_tab[\"plx\"]\n",
    "        dmod = 5*np.log10(dist[loc])-5\n",
    "    else:\n",
    "        tab = far_tab\n",
    "        loc = far_tab[\"Cluster\"]==cluster\n",
    "#     print(cl_age)\n",
    "    cl_color = np.ones_like(tab[\"phot_g_mean_mag\"][loc])*cl_age\n",
    "    \n",
    "    # Plot a CMD with absolute magnitude\n",
    "    sc2 = ax2.scatter(tab[\"bp_rp\"][loc],tab[\"phot_g_mean_mag\"][loc]-dmod,marker=\".\",\n",
    "               c=cl_color,norm=age_norm,cmap=\"plasma\",zorder=cl_age,s=9)\n",
    "    if ct==0:\n",
    "        plt.colorbar(sc2, label=\"log(age,yr)\")\n",
    "    \n",
    "    plt.savefig(f\"figures/gaia_HRD_clusters_abs_{(ct+1):0>3}_{cluster}.png\".format(ct+1),\n",
    "                bbox_inches=\"tight\",dpi=600,facecolor=\"w\")"
   ]
  },
  {
   "cell_type": "markdown",
   "metadata": {},
   "source": [
    "# Plot individual clusters "
   ]
  },
  {
   "cell_type": "markdown",
   "metadata": {},
   "source": [
    "Plot clusters as individual frames, instead of overlaid on each other. They're still colored by age"
   ]
  },
  {
   "cell_type": "code",
   "execution_count": null,
   "metadata": {},
   "outputs": [],
   "source": [
    "for ct,i in enumerate(cluster_sort):\n",
    "    fig = plt.figure(figsize=(9,6))\n",
    "    ax2 = plt.subplot(111)\n",
    "    ax2.set_ylim(14,-5)\n",
    "    ax2.set_xlim(-0.25,4)\n",
    "    ax2.tick_params(labelsize=14)\n",
    "\n",
    "    ax2.text(3.95,-4,\"Figure: Stephanie T. Douglas\",horizontalalignment=\"right\")\n",
    "    ax2.text(3.95,-3,\"Data: Gaia Collaboration et al. (2018)\",horizontalalignment=\"right\")\n",
    "\n",
    "    cluster = cluster_params[\"Cluster\"][i]\n",
    "#     print(cluster)\n",
    "    cl_age = cluster_params[\"log(age)\"][i]\n",
    "    dmod = cluster_params[\"DM\"][i]\n",
    "    if dmod<7:\n",
    "        tab = near_tab\n",
    "        loc = near_tab[\"Cluster\"]==cluster\n",
    "        dist = 1000/near_tab[\"plx\"]\n",
    "        dmod = 5*np.log10(dist[loc])-5\n",
    "    else:\n",
    "        tab = far_tab\n",
    "        loc = far_tab[\"Cluster\"]==cluster\n",
    "    if len(np.where(loc)[0])==0:\n",
    "        print(cluster,\"not found?\")\n",
    "    cl_color = np.ones_like(tab[\"phot_g_mean_mag\"][loc])*cl_age\n",
    "    \n",
    "    # Pick out the right color for the text\n",
    "    age_myr = ((10**cl_age)/1e6)\n",
    "    cmap = cm.get_cmap(\"plasma\")\n",
    "    age_color = cmap(age_norm(cl_age))\n",
    "    if cluster==\"Trump10\":\n",
    "        cluster==\"Trumpler10\"\n",
    "    ax2.text(3.95,-2,f\"{cluster}, age = {age_myr:.0f} Myr\",color=age_color,horizontalalignment=\"right\")\n",
    "    \n",
    "    # Plot a CMD with absolute magnitude\n",
    "    sc2 = ax2.scatter(tab[\"bp_rp\"][loc],tab[\"phot_g_mean_mag\"][loc]-dmod,marker=\".\",\n",
    "               c=cl_color,norm=age_norm,cmap=\"plasma\",zorder=cl_age,s=9)\n",
    "    ax2.set_ylabel(r\"M$_G$\",fontsize=16)\n",
    "    ax2.set_xlabel(r\"G$_{BP}$ - G$_{RP}$\",fontsize=16)\n",
    "    \n",
    "    plt.colorbar(sc2, label=\"log(age,yr)\")\n",
    "    \n",
    "    plt.savefig(f\"figures/gaia_HRD_{(ct+1):0>3}_{cluster}.png\".format(ct+1),\n",
    "                bbox_inches=\"tight\",dpi=600,facecolor=\"w\")\n",
    "    plt.close()"
   ]
  },
  {
   "cell_type": "markdown",
   "metadata": {},
   "source": [
    "Same plot as above, except all the clusters will be plotted in black and not labeled. (Intended for use with students, to have them sort clusters by age)"
   ]
  },
  {
   "cell_type": "code",
   "execution_count": null,
   "metadata": {},
   "outputs": [],
   "source": [
    "for ct,i in enumerate(cluster_sort):\n",
    "    fig = plt.figure(figsize=(9,6))\n",
    "    ax2 = plt.subplot(111)\n",
    "    ax2.set_ylim(14,-5)\n",
    "    ax2.set_xlim(-0.25,4)\n",
    "    ax2.tick_params(labelsize=14)\n",
    "\n",
    "    ax2.text(3.95,-4,\"Figure: Stephanie T. Douglas\",horizontalalignment=\"right\")\n",
    "    ax2.text(3.95,-3,\"Data: Gaia Collaboration et al. (2018)\",horizontalalignment=\"right\")\n",
    "\n",
    "    cluster = cluster_params[\"Cluster\"][i]\n",
    "#     print(cluster)\n",
    "    cl_age = cluster_params[\"log(age)\"][i]\n",
    "    dmod = cluster_params[\"DM\"][i]\n",
    "    if dmod<7:\n",
    "        tab = near_tab\n",
    "        loc = near_tab[\"Cluster\"]==cluster\n",
    "        dist = 1000/near_tab[\"plx\"]\n",
    "        dmod = 5*np.log10(dist[loc])-5\n",
    "    else:\n",
    "        tab = far_tab\n",
    "        loc = far_tab[\"Cluster\"]==cluster\n",
    "#     print(cl_age)\n",
    "    cl_color = np.ones_like(tab[\"phot_g_mean_mag\"][loc])*cl_age\n",
    "    \n",
    "    # Pick out the right color for the text\n",
    "    age_myr = ((10**cl_age)/1e6)\n",
    "    age_color = \"k\"\n",
    "    if cluster==\"Trump10\":\n",
    "        cluster==\"Trumpler10\"\n",
    "#     ax2.text(3.95,-2,f\"{cluster}, age = {age_myr:.0f} Myr\",color=age_color,horizontalalignment=\"right\")\n",
    "    \n",
    "    # Plot a CMD with absolute magnitude\n",
    "    sc2 = ax2.scatter(tab[\"bp_rp\"][loc],tab[\"phot_g_mean_mag\"][loc]-dmod,marker=\".\",\n",
    "               c=\"k\",zorder=cl_age,s=9)\n",
    "    ax2.set_ylabel(r\"M$_G$\",fontsize=16)\n",
    "    ax2.set_xlabel(r\"G$_{BP}$ - G$_{RP}$\",fontsize=16)\n",
    "        \n",
    "    plt.savefig(f\"figures/gaia_HRD_black_{(ct+1):0>3}_{cluster}.png\".format(ct+1),\n",
    "                bbox_inches=\"tight\",dpi=600,facecolor=\"w\")\n",
    "    plt.close()"
   ]
  },
  {
   "cell_type": "code",
   "execution_count": null,
   "metadata": {},
   "outputs": [],
   "source": []
  }
 ],
 "metadata": {
  "kernelspec": {
   "display_name": "Python 3",
   "language": "python",
   "name": "python3"
  },
  "language_info": {
   "codemirror_mode": {
    "name": "ipython",
    "version": 3
   },
   "file_extension": ".py",
   "mimetype": "text/x-python",
   "name": "python",
   "nbconvert_exporter": "python",
   "pygments_lexer": "ipython3",
   "version": "3.7.9"
  }
 },
 "nbformat": 4,
 "nbformat_minor": 4
}
